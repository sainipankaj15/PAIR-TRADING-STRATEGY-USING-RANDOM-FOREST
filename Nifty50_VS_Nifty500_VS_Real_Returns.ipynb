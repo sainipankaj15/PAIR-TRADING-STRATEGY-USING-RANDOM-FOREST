{
  "nbformat": 4,
  "nbformat_minor": 0,
  "metadata": {
    "colab": {
      "provenance": [],
      "collapsed_sections": []
    },
    "kernelspec": {
      "name": "python3",
      "display_name": "Python 3"
    },
    "language_info": {
      "name": "python"
    }
  },
  "cells": [
    {
      "cell_type": "code",
      "execution_count": null,
      "metadata": {
        "id": "qhHgjkXsM2fA"
      },
      "outputs": [],
      "source": [
        "import pandas as pd\n",
        "import matplotlib.pyplot as plt"
      ]
    },
    {
      "cell_type": "code",
      "source": [
        "new_data={'year':['2013','2014','2015','2016','2017','2018','2019'],\n",
        "          'Nifty500_IntraDay_2_RF_A_k_1':[0.10989040248234008, 0.056570380702489126, 0.05383046350629907, 0.04193896135233157, 0.023216074620992715, 0.03175619068166584, 0.033327744269318414],\n",
        "          'Nifty500_IntraDay_2_RF_A_k_2':[0.09700972836499618, 0.05503432386120179, 0.046613227500063296, 0.038260913698041285, 0.02501450924063345, 0.030998962004340845, 0.03239724606566588],\n",
        "          'Nifty500_IntraDay_2_RF_A_k_3':[0.08687051623550619, 0.05227607021612477, 0.04236357848562109, 0.034615546862943804, 0.024337676577984288, 0.029160385559547128, 0.032526560247557124],\n",
        "          'Nifty500_IntraDay_2_RF_A_k_4':[0.08081332648951284, 0.048504591353267484, 0.04268880370077462, 0.03368710796697737, 0.024783098899926213, 0.027990770268448203, 0.03178184025893842 ],\n",
        "\n",
        "          'Nifty500_Intraday_3_RF_k_1' : [0.1096747098878966, 0.05743821524565483, 0.052886422256522805, 0.04053575842269463, 0.02367757736097747, 0.031598377691421355, 0.03227088380950002],\n",
        "          'Nifty500_Intraday_3_RF_k_2' : [0.09421316710934262, 0.05426971068226327, 0.04767449226580255, 0.03853930762073909, 0.024402239714195535, 0.031063946361217315, 0.03043023158193443],\n",
        "          'Nifty500_Intraday_3_RF_k_3' : [0.08509882521848222, 0.05084365001848285, 0.04281885944518468, 0.03493123686065643, 0.0236744540013794, 0.030255207508160395, 0.030255702379694726],\n",
        "          'Nifty500_Intraday_3_RF_k_4' : [0.07768457116646224, 0.04801782100033396, 0.0418688126693259, 0.03365222763162034, 0.023886259193301167, 0.028715327192126546, 0.029974495961568537],\n",
        "          \n",
        "\n",
        "          'NIFTY50_IntraDay_2_RF_A_k_1':[0.010770194961924252, 0.012115281069034714, 0.011375078996243104, 0.004454364976218591, 0.004036711516208127, 0.004665399032980256, 0.0031090048795708843],\n",
        "          'NIFTY50_IntraDay_2_RF_A_k_2':[0.010706784746997105, 0.011805361296726697, 0.00975244195427843, 0.004531180553760438, 0.004804081820700347, 0.0040399383056916585, 0.0029192791325661533],\n",
        "          'NIFTY50_IntraDay_2_RF_A_k_3':[0.009543383938418823, 0.01052037638724558, 0.007539515631416427, 0.004083373404255564, 0.005029630086516562, 0.004234463603032652, 0.0018971949369877526],\n",
        "          'NIFTY50_IntraDay_2_RF_A_k_4':[0.008669390582341572, 0.009043526288167009, 0.007571982200338604, 0.004248813606480629, 0.004323715975800413, 0.0047500919269934895, 0.001782188066632531],\n",
        "          \n",
        "\n",
        "          'NIFTY50_Intraday_3_RF_k_1' : [0.011801866850239722, 0.011775598363093782, 0.011546233223322312, 0.004398364326058395, 0.005231511946978799, 0.005508072866643528, 0.0029376447795098817],\n",
        "          'NIFTY50_Intraday_3_RF_k_2' : [0.011156870660704898, 0.010426680727124231, 0.008451065702003768, 0.004089972006763248, 0.005434823705697219, 0.005328181701672648, 0.0023390415852805684],\n",
        "          'NIFTY50_Intraday_3_RF_k_3' : [0.00907594882502308, 0.00992993382390526, 0.007671287843294797, 0.0037580867446489565, 0.004847445338156996, 0.004731031737714477, 0.0020982272981451442],\n",
        "          'NIFTY50_Intraday_3_RF_k_4' : [0.008608768966191636, 0.00963125277411664, 0.006630735677460313, 0.004143959282018464, 0.004052771890074183, 0.0044506971268547125, 0.0023320408696667337],\n",
        "          'NIFTY500_INDEX' : [0.01558700958,0.14804466395,-0.0029224212, 0.01879424009, 0.15810587537, -0.0146663579,0.03440964776],\n",
        "          'NIFTY50_INDEX' : [0.0258072009943542,0.122301891016904,-0.016037928081009,0.0135791771753452,0.112211768586234,0.0131876989364385,0.0481531465890527]\n",
        "          }\n"
      ],
      "metadata": {
        "id": "8BiSZT5xNqDF"
      },
      "execution_count": null,
      "outputs": []
    },
    {
      "cell_type": "code",
      "source": [
        "df=pd.DataFrame.from_dict(new_data);"
      ],
      "metadata": {
        "id": "xF6jqdYfONJd"
      },
      "execution_count": null,
      "outputs": []
    },
    {
      "cell_type": "code",
      "source": [
        "df"
      ],
      "metadata": {
        "colab": {
          "base_uri": "https://localhost:8080/",
          "height": 333
        },
        "id": "FAbUoSYdONqt",
        "outputId": "b93c1ac4-ac26-4abc-878b-d5e287b9bcdb"
      },
      "execution_count": null,
      "outputs": [
        {
          "output_type": "execute_result",
          "data": {
            "text/plain": [
              "   year  Nifty500_IntraDay_2_RF_A_k_1  Nifty500_IntraDay_2_RF_A_k_2  \\\n",
              "0  2013                      0.109890                      0.097010   \n",
              "1  2014                      0.056570                      0.055034   \n",
              "2  2015                      0.053830                      0.046613   \n",
              "3  2016                      0.041939                      0.038261   \n",
              "4  2017                      0.023216                      0.025015   \n",
              "5  2018                      0.031756                      0.030999   \n",
              "6  2019                      0.033328                      0.032397   \n",
              "\n",
              "   Nifty500_IntraDay_2_RF_A_k_3  Nifty500_IntraDay_2_RF_A_k_4  \\\n",
              "0                      0.086871                      0.080813   \n",
              "1                      0.052276                      0.048505   \n",
              "2                      0.042364                      0.042689   \n",
              "3                      0.034616                      0.033687   \n",
              "4                      0.024338                      0.024783   \n",
              "5                      0.029160                      0.027991   \n",
              "6                      0.032527                      0.031782   \n",
              "\n",
              "   Nifty500_Intraday_3_RF_k_1  Nifty500_Intraday_3_RF_k_2  \\\n",
              "0                    0.109675                    0.094213   \n",
              "1                    0.057438                    0.054270   \n",
              "2                    0.052886                    0.047674   \n",
              "3                    0.040536                    0.038539   \n",
              "4                    0.023678                    0.024402   \n",
              "5                    0.031598                    0.031064   \n",
              "6                    0.032271                    0.030430   \n",
              "\n",
              "   Nifty500_Intraday_3_RF_k_3  Nifty500_Intraday_3_RF_k_4  \\\n",
              "0                    0.085099                    0.077685   \n",
              "1                    0.050844                    0.048018   \n",
              "2                    0.042819                    0.041869   \n",
              "3                    0.034931                    0.033652   \n",
              "4                    0.023674                    0.023886   \n",
              "5                    0.030255                    0.028715   \n",
              "6                    0.030256                    0.029974   \n",
              "\n",
              "   NIFTY50_IntraDay_2_RF_A_k_1  NIFTY50_IntraDay_2_RF_A_k_2  \\\n",
              "0                     0.010770                     0.010707   \n",
              "1                     0.012115                     0.011805   \n",
              "2                     0.011375                     0.009752   \n",
              "3                     0.004454                     0.004531   \n",
              "4                     0.004037                     0.004804   \n",
              "5                     0.004665                     0.004040   \n",
              "6                     0.003109                     0.002919   \n",
              "\n",
              "   NIFTY50_IntraDay_2_RF_A_k_3  NIFTY50_IntraDay_2_RF_A_k_4  \\\n",
              "0                     0.009543                     0.008669   \n",
              "1                     0.010520                     0.009044   \n",
              "2                     0.007540                     0.007572   \n",
              "3                     0.004083                     0.004249   \n",
              "4                     0.005030                     0.004324   \n",
              "5                     0.004234                     0.004750   \n",
              "6                     0.001897                     0.001782   \n",
              "\n",
              "   NIFTY50_Intraday_3_RF_k_1  NIFTY50_Intraday_3_RF_k_2  \\\n",
              "0                   0.011802                   0.011157   \n",
              "1                   0.011776                   0.010427   \n",
              "2                   0.011546                   0.008451   \n",
              "3                   0.004398                   0.004090   \n",
              "4                   0.005232                   0.005435   \n",
              "5                   0.005508                   0.005328   \n",
              "6                   0.002938                   0.002339   \n",
              "\n",
              "   NIFTY50_Intraday_3_RF_k_3  NIFTY50_Intraday_3_RF_k_4  NIFTY500_INDEX  \\\n",
              "0                   0.009076                   0.008609        0.015587   \n",
              "1                   0.009930                   0.009631        0.148045   \n",
              "2                   0.007671                   0.006631       -0.002922   \n",
              "3                   0.003758                   0.004144        0.018794   \n",
              "4                   0.004847                   0.004053        0.158106   \n",
              "5                   0.004731                   0.004451       -0.014666   \n",
              "6                   0.002098                   0.002332        0.034410   \n",
              "\n",
              "   NIFTY50_INDEX  \n",
              "0       0.025807  \n",
              "1       0.122302  \n",
              "2      -0.016038  \n",
              "3       0.013579  \n",
              "4       0.112212  \n",
              "5       0.013188  \n",
              "6       0.048153  "
            ],
            "text/html": [
              "\n",
              "  <div id=\"df-6d106365-6c20-4404-8789-cfee654efb08\">\n",
              "    <div class=\"colab-df-container\">\n",
              "      <div>\n",
              "<style scoped>\n",
              "    .dataframe tbody tr th:only-of-type {\n",
              "        vertical-align: middle;\n",
              "    }\n",
              "\n",
              "    .dataframe tbody tr th {\n",
              "        vertical-align: top;\n",
              "    }\n",
              "\n",
              "    .dataframe thead th {\n",
              "        text-align: right;\n",
              "    }\n",
              "</style>\n",
              "<table border=\"1\" class=\"dataframe\">\n",
              "  <thead>\n",
              "    <tr style=\"text-align: right;\">\n",
              "      <th></th>\n",
              "      <th>year</th>\n",
              "      <th>Nifty500_IntraDay_2_RF_A_k_1</th>\n",
              "      <th>Nifty500_IntraDay_2_RF_A_k_2</th>\n",
              "      <th>Nifty500_IntraDay_2_RF_A_k_3</th>\n",
              "      <th>Nifty500_IntraDay_2_RF_A_k_4</th>\n",
              "      <th>Nifty500_Intraday_3_RF_k_1</th>\n",
              "      <th>Nifty500_Intraday_3_RF_k_2</th>\n",
              "      <th>Nifty500_Intraday_3_RF_k_3</th>\n",
              "      <th>Nifty500_Intraday_3_RF_k_4</th>\n",
              "      <th>NIFTY50_IntraDay_2_RF_A_k_1</th>\n",
              "      <th>NIFTY50_IntraDay_2_RF_A_k_2</th>\n",
              "      <th>NIFTY50_IntraDay_2_RF_A_k_3</th>\n",
              "      <th>NIFTY50_IntraDay_2_RF_A_k_4</th>\n",
              "      <th>NIFTY50_Intraday_3_RF_k_1</th>\n",
              "      <th>NIFTY50_Intraday_3_RF_k_2</th>\n",
              "      <th>NIFTY50_Intraday_3_RF_k_3</th>\n",
              "      <th>NIFTY50_Intraday_3_RF_k_4</th>\n",
              "      <th>NIFTY500_INDEX</th>\n",
              "      <th>NIFTY50_INDEX</th>\n",
              "    </tr>\n",
              "  </thead>\n",
              "  <tbody>\n",
              "    <tr>\n",
              "      <th>0</th>\n",
              "      <td>2013</td>\n",
              "      <td>0.109890</td>\n",
              "      <td>0.097010</td>\n",
              "      <td>0.086871</td>\n",
              "      <td>0.080813</td>\n",
              "      <td>0.109675</td>\n",
              "      <td>0.094213</td>\n",
              "      <td>0.085099</td>\n",
              "      <td>0.077685</td>\n",
              "      <td>0.010770</td>\n",
              "      <td>0.010707</td>\n",
              "      <td>0.009543</td>\n",
              "      <td>0.008669</td>\n",
              "      <td>0.011802</td>\n",
              "      <td>0.011157</td>\n",
              "      <td>0.009076</td>\n",
              "      <td>0.008609</td>\n",
              "      <td>0.015587</td>\n",
              "      <td>0.025807</td>\n",
              "    </tr>\n",
              "    <tr>\n",
              "      <th>1</th>\n",
              "      <td>2014</td>\n",
              "      <td>0.056570</td>\n",
              "      <td>0.055034</td>\n",
              "      <td>0.052276</td>\n",
              "      <td>0.048505</td>\n",
              "      <td>0.057438</td>\n",
              "      <td>0.054270</td>\n",
              "      <td>0.050844</td>\n",
              "      <td>0.048018</td>\n",
              "      <td>0.012115</td>\n",
              "      <td>0.011805</td>\n",
              "      <td>0.010520</td>\n",
              "      <td>0.009044</td>\n",
              "      <td>0.011776</td>\n",
              "      <td>0.010427</td>\n",
              "      <td>0.009930</td>\n",
              "      <td>0.009631</td>\n",
              "      <td>0.148045</td>\n",
              "      <td>0.122302</td>\n",
              "    </tr>\n",
              "    <tr>\n",
              "      <th>2</th>\n",
              "      <td>2015</td>\n",
              "      <td>0.053830</td>\n",
              "      <td>0.046613</td>\n",
              "      <td>0.042364</td>\n",
              "      <td>0.042689</td>\n",
              "      <td>0.052886</td>\n",
              "      <td>0.047674</td>\n",
              "      <td>0.042819</td>\n",
              "      <td>0.041869</td>\n",
              "      <td>0.011375</td>\n",
              "      <td>0.009752</td>\n",
              "      <td>0.007540</td>\n",
              "      <td>0.007572</td>\n",
              "      <td>0.011546</td>\n",
              "      <td>0.008451</td>\n",
              "      <td>0.007671</td>\n",
              "      <td>0.006631</td>\n",
              "      <td>-0.002922</td>\n",
              "      <td>-0.016038</td>\n",
              "    </tr>\n",
              "    <tr>\n",
              "      <th>3</th>\n",
              "      <td>2016</td>\n",
              "      <td>0.041939</td>\n",
              "      <td>0.038261</td>\n",
              "      <td>0.034616</td>\n",
              "      <td>0.033687</td>\n",
              "      <td>0.040536</td>\n",
              "      <td>0.038539</td>\n",
              "      <td>0.034931</td>\n",
              "      <td>0.033652</td>\n",
              "      <td>0.004454</td>\n",
              "      <td>0.004531</td>\n",
              "      <td>0.004083</td>\n",
              "      <td>0.004249</td>\n",
              "      <td>0.004398</td>\n",
              "      <td>0.004090</td>\n",
              "      <td>0.003758</td>\n",
              "      <td>0.004144</td>\n",
              "      <td>0.018794</td>\n",
              "      <td>0.013579</td>\n",
              "    </tr>\n",
              "    <tr>\n",
              "      <th>4</th>\n",
              "      <td>2017</td>\n",
              "      <td>0.023216</td>\n",
              "      <td>0.025015</td>\n",
              "      <td>0.024338</td>\n",
              "      <td>0.024783</td>\n",
              "      <td>0.023678</td>\n",
              "      <td>0.024402</td>\n",
              "      <td>0.023674</td>\n",
              "      <td>0.023886</td>\n",
              "      <td>0.004037</td>\n",
              "      <td>0.004804</td>\n",
              "      <td>0.005030</td>\n",
              "      <td>0.004324</td>\n",
              "      <td>0.005232</td>\n",
              "      <td>0.005435</td>\n",
              "      <td>0.004847</td>\n",
              "      <td>0.004053</td>\n",
              "      <td>0.158106</td>\n",
              "      <td>0.112212</td>\n",
              "    </tr>\n",
              "    <tr>\n",
              "      <th>5</th>\n",
              "      <td>2018</td>\n",
              "      <td>0.031756</td>\n",
              "      <td>0.030999</td>\n",
              "      <td>0.029160</td>\n",
              "      <td>0.027991</td>\n",
              "      <td>0.031598</td>\n",
              "      <td>0.031064</td>\n",
              "      <td>0.030255</td>\n",
              "      <td>0.028715</td>\n",
              "      <td>0.004665</td>\n",
              "      <td>0.004040</td>\n",
              "      <td>0.004234</td>\n",
              "      <td>0.004750</td>\n",
              "      <td>0.005508</td>\n",
              "      <td>0.005328</td>\n",
              "      <td>0.004731</td>\n",
              "      <td>0.004451</td>\n",
              "      <td>-0.014666</td>\n",
              "      <td>0.013188</td>\n",
              "    </tr>\n",
              "    <tr>\n",
              "      <th>6</th>\n",
              "      <td>2019</td>\n",
              "      <td>0.033328</td>\n",
              "      <td>0.032397</td>\n",
              "      <td>0.032527</td>\n",
              "      <td>0.031782</td>\n",
              "      <td>0.032271</td>\n",
              "      <td>0.030430</td>\n",
              "      <td>0.030256</td>\n",
              "      <td>0.029974</td>\n",
              "      <td>0.003109</td>\n",
              "      <td>0.002919</td>\n",
              "      <td>0.001897</td>\n",
              "      <td>0.001782</td>\n",
              "      <td>0.002938</td>\n",
              "      <td>0.002339</td>\n",
              "      <td>0.002098</td>\n",
              "      <td>0.002332</td>\n",
              "      <td>0.034410</td>\n",
              "      <td>0.048153</td>\n",
              "    </tr>\n",
              "  </tbody>\n",
              "</table>\n",
              "</div>\n",
              "      <button class=\"colab-df-convert\" onclick=\"convertToInteractive('df-6d106365-6c20-4404-8789-cfee654efb08')\"\n",
              "              title=\"Convert this dataframe to an interactive table.\"\n",
              "              style=\"display:none;\">\n",
              "        \n",
              "  <svg xmlns=\"http://www.w3.org/2000/svg\" height=\"24px\"viewBox=\"0 0 24 24\"\n",
              "       width=\"24px\">\n",
              "    <path d=\"M0 0h24v24H0V0z\" fill=\"none\"/>\n",
              "    <path d=\"M18.56 5.44l.94 2.06.94-2.06 2.06-.94-2.06-.94-.94-2.06-.94 2.06-2.06.94zm-11 1L8.5 8.5l.94-2.06 2.06-.94-2.06-.94L8.5 2.5l-.94 2.06-2.06.94zm10 10l.94 2.06.94-2.06 2.06-.94-2.06-.94-.94-2.06-.94 2.06-2.06.94z\"/><path d=\"M17.41 7.96l-1.37-1.37c-.4-.4-.92-.59-1.43-.59-.52 0-1.04.2-1.43.59L10.3 9.45l-7.72 7.72c-.78.78-.78 2.05 0 2.83L4 21.41c.39.39.9.59 1.41.59.51 0 1.02-.2 1.41-.59l7.78-7.78 2.81-2.81c.8-.78.8-2.07 0-2.86zM5.41 20L4 18.59l7.72-7.72 1.47 1.35L5.41 20z\"/>\n",
              "  </svg>\n",
              "      </button>\n",
              "      \n",
              "  <style>\n",
              "    .colab-df-container {\n",
              "      display:flex;\n",
              "      flex-wrap:wrap;\n",
              "      gap: 12px;\n",
              "    }\n",
              "\n",
              "    .colab-df-convert {\n",
              "      background-color: #E8F0FE;\n",
              "      border: none;\n",
              "      border-radius: 50%;\n",
              "      cursor: pointer;\n",
              "      display: none;\n",
              "      fill: #1967D2;\n",
              "      height: 32px;\n",
              "      padding: 0 0 0 0;\n",
              "      width: 32px;\n",
              "    }\n",
              "\n",
              "    .colab-df-convert:hover {\n",
              "      background-color: #E2EBFA;\n",
              "      box-shadow: 0px 1px 2px rgba(60, 64, 67, 0.3), 0px 1px 3px 1px rgba(60, 64, 67, 0.15);\n",
              "      fill: #174EA6;\n",
              "    }\n",
              "\n",
              "    [theme=dark] .colab-df-convert {\n",
              "      background-color: #3B4455;\n",
              "      fill: #D2E3FC;\n",
              "    }\n",
              "\n",
              "    [theme=dark] .colab-df-convert:hover {\n",
              "      background-color: #434B5C;\n",
              "      box-shadow: 0px 1px 3px 1px rgba(0, 0, 0, 0.15);\n",
              "      filter: drop-shadow(0px 1px 2px rgba(0, 0, 0, 0.3));\n",
              "      fill: #FFFFFF;\n",
              "    }\n",
              "  </style>\n",
              "\n",
              "      <script>\n",
              "        const buttonEl =\n",
              "          document.querySelector('#df-6d106365-6c20-4404-8789-cfee654efb08 button.colab-df-convert');\n",
              "        buttonEl.style.display =\n",
              "          google.colab.kernel.accessAllowed ? 'block' : 'none';\n",
              "\n",
              "        async function convertToInteractive(key) {\n",
              "          const element = document.querySelector('#df-6d106365-6c20-4404-8789-cfee654efb08');\n",
              "          const dataTable =\n",
              "            await google.colab.kernel.invokeFunction('convertToInteractive',\n",
              "                                                     [key], {});\n",
              "          if (!dataTable) return;\n",
              "\n",
              "          const docLinkHtml = 'Like what you see? Visit the ' +\n",
              "            '<a target=\"_blank\" href=https://colab.research.google.com/notebooks/data_table.ipynb>data table notebook</a>'\n",
              "            + ' to learn more about interactive tables.';\n",
              "          element.innerHTML = '';\n",
              "          dataTable['output_type'] = 'display_data';\n",
              "          await google.colab.output.renderOutput(dataTable, element);\n",
              "          const docLink = document.createElement('div');\n",
              "          docLink.innerHTML = docLinkHtml;\n",
              "          element.appendChild(docLink);\n",
              "        }\n",
              "      </script>\n",
              "    </div>\n",
              "  </div>\n",
              "  "
            ]
          },
          "metadata": {},
          "execution_count": 59
        }
      ]
    },
    {
      "cell_type": "code",
      "source": [
        "#bar graph"
      ],
      "metadata": {
        "id": "1Jnxzy78OQX2"
      },
      "execution_count": null,
      "outputs": []
    },
    {
      "cell_type": "code",
      "source": [
        "df.plot(figsize=(15,7), x=\"year\", y=[\"Nifty500_IntraDay_2_RF_A_k_1\",\"Nifty500_IntraDay_2_RF_A_k_2\",\"Nifty500_IntraDay_2_RF_A_k_3\",\"Nifty500_IntraDay_2_RF_A_k_4\",\"Nifty500_Intraday_3_RF_k_1\",\"Nifty500_Intraday_3_RF_k_2\",\"Nifty500_Intraday_3_RF_k_3\",\"Nifty500_Intraday_3_RF_k_4\",\"NIFTY50_IntraDay_2_RF_A_k_1\",\"NIFTY50_IntraDay_2_RF_A_k_2\",\"NIFTY50_IntraDay_2_RF_A_k_3\",\"NIFTY50_IntraDay_2_RF_A_k_4\",\"NIFTY50_Intraday_3_RF_k_1\",\"NIFTY50_Intraday_3_RF_k_2\",\"NIFTY50_Intraday_3_RF_k_3\",\"NIFTY50_Intraday_3_RF_k_4\"], kind=\"bar\")"
      ],
      "metadata": {
        "colab": {
          "base_uri": "https://localhost:8080/",
          "height": 475
        },
        "id": "caQP4PAMOWcB",
        "outputId": "2d9374af-1935-49d0-bd3b-08235d3666c8"
      },
      "execution_count": null,
      "outputs": [
        {
          "output_type": "execute_result",
          "data": {
            "text/plain": [
              "<matplotlib.axes._subplots.AxesSubplot at 0x7f41e95b0150>"
            ]
          },
          "metadata": {},
          "execution_count": 60
        },
        {
          "output_type": "display_data",
          "data": {
            "text/plain": [
              "<Figure size 1080x504 with 1 Axes>"
            ],
            "image/png": "[encoded data removed]"
          },
          "metadata": {
            "needs_background": "light"
          }
        }
      ]
    },
    {
      "cell_type": "code",
      "source": [],
      "metadata": {
        "id": "hirSYVx4PABk"
      },
      "execution_count": null,
      "outputs": []
    },
    {
      "cell_type": "code",
      "source": [
        "#with real returns\n"
      ],
      "metadata": {
        "id": "fNjTvk3PzjYB"
      },
      "execution_count": null,
      "outputs": []
    },
    {
      "cell_type": "code",
      "source": [
        "new_data={'year':['2013','2014','2015','2016','2017','2018','2019'],\n",
        "          'Nifty500_IntraDay_2_RF_A_k_1':[0.10989040248234008, 0.056570380702489126, 0.05383046350629907, 0.04193896135233157, 0.023216074620992715, 0.03175619068166584, 0.033327744269318414],\n",
        "\n",
        "          'Nifty500_Intraday_3_RF_k_1' : [0.1096747098878966, 0.05743821524565483, 0.052886422256522805, 0.04053575842269463, 0.02367757736097747, 0.031598377691421355, 0.03227088380950002],\n",
        "          \n",
        "          'NIFTY50_IntraDay_2_RF_A_k_1':[0.010770194961924252, 0.012115281069034714, 0.011375078996243104, 0.004454364976218591, 0.004036711516208127, 0.004665399032980256, 0.0031090048795708843],\n",
        "        \n",
        "          'NIFTY50_Intraday_3_RF_k_1' : [0.011801866850239722, 0.011775598363093782, 0.011546233223322312, 0.004398364326058395, 0.005231511946978799, 0.005508072866643528, 0.0029376447795098817],\n",
        "             \n",
        "          'NIFTY500_INDEX' : [0.01558700958,0.14804466395,-0.0029224212, 0.01879424009, 0.15810587537, -0.0146663579,0.03440964776],\n",
        "          'NIFTY50_INDEX' : [0.0258072009943542,0.122301891016904,-0.016037928081009,0.0135791771753452,0.112211768586234,0.0131876989364385,0.0481531465890527]\n",
        "          }\n"
      ],
      "metadata": {
        "id": "Sb16kqZ5zjUd"
      },
      "execution_count": null,
      "outputs": []
    },
    {
      "cell_type": "code",
      "source": [
        "df.plot(figsize=(15,7), x=\"year\", y=['Nifty500_IntraDay_2_RF_A_k_1',\"Nifty500_Intraday_3_RF_k_1\",\"NIFTY50_IntraDay_2_RF_A_k_1\",\"NIFTY50_Intraday_3_RF_k_1\",\"NIFTY500_INDEX\",\"NIFTY50_INDEX\"], kind=\"bar\")"
      ],
      "metadata": {
        "colab": {
          "base_uri": "https://localhost:8080/",
          "height": 475
        },
        "id": "WUdG1--E0_6A",
        "outputId": "664db8ef-b505-4d11-ea8d-9cc761a88630"
      },
      "execution_count": null,
      "outputs": [
        {
          "output_type": "execute_result",
          "data": {
            "text/plain": [
              "<matplotlib.axes._subplots.AxesSubplot at 0x7f41e9352450>"
            ]
          },
          "metadata": {},
          "execution_count": 63
        },
        {
          "output_type": "display_data",
          "data": {
            "text/plain": [
              "<Figure size 1080x504 with 1 Axes>"
            ],
            "image/png": "[encoded data removed]"
          },
          "metadata": {
            "needs_background": "light"
          }
        }
      ]
    },
    {
      "cell_type": "code",
      "source": [
        "nifty 500 and nifty50 returns"
      ],
      "metadata": {
        "id": "jByNos2-8Kls"
      },
      "execution_count": null,
      "outputs": []
    }
  ]
}